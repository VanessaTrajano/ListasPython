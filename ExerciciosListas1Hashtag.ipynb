{
 "cells": [
  {
   "cell_type": "markdown",
   "metadata": {},
   "source": [
    "# Exercícios\n",
    "\n",
    "## 1. Faturamento do Melhor e do Pior Mês do Ano\n",
    "\n",
    "Qual foi o valor de vendas do melhor mês do Ano?\n",
    "E valor do pior mês do ano?"
   ]
  },
  {
   "cell_type": "code",
   "execution_count": 2,
   "metadata": {},
   "outputs": [
    {
     "name": "stdout",
     "output_type": "stream",
     "text": [
      "O valor de vendas do melhor mês do ano foi 49051 e o valor de vendas do pior mês do ano foi 9650\n"
     ]
    }
   ],
   "source": [
    "meses = ['jan', 'fev', 'mar', 'abr', 'mai', 'jun', 'jul', 'ago', 'set', 'out', 'nov', 'dez']\n",
    "vendas_1sem = [25000, 29000, 22200, 17750, 15870, 19900]\n",
    "vendas_2sem = [19850, 20120, 17540, 15555, 49051, 9650]\n",
    "\n",
    "vendasano = vendas_1sem + vendas_2sem\n",
    "\n",
    "melhor = max(vendasano)\n",
    "pior = min(vendasano)\n",
    "\n",
    "print(f\"O valor de vendas do melhor mês do ano foi {melhor} e o valor de vendas do pior mês do ano foi {pior}\")"
   ]
  },
  {
   "cell_type": "markdown",
   "metadata": {},
   "source": [
    "## 2. Continuação\n",
    "\n",
    "Agora relacione as duas listas para printar 'O melhor mês do ano foi {} com {} vendas' e o mesmo para o pior mês do ano.\n",
    "\n",
    "Calcule também o faturamento total do Ano e quanto que o melhor mês representou do faturamento total.\n",
    "\n",
    "Obs: Para o faturamento total, pode usar a função sum(lista) que soma todos os itens de uma lista"
   ]
  },
  {
   "cell_type": "code",
   "execution_count": 7,
   "metadata": {},
   "outputs": [
    {
     "name": "stdout",
     "output_type": "stream",
     "text": [
      "O melhor mês do ano foi nov com 49051 vendas\n",
      "O pior mês do ano foi dez com 9650 vendas\n",
      "O faturamento total foi 261486\n",
      "O melhor mês representou 18.76% do faturamento.\n"
     ]
    }
   ],
   "source": [
    "i = vendasano.index(melhor)\n",
    "i2 = vendasano.index(pior)\n",
    "\n",
    "print(f\"O melhor mês do ano foi {meses[i]} com {melhor} vendas\")\n",
    "print(f\"O pior mês do ano foi {meses[i2]} com {pior} vendas\")\n",
    "\n",
    "faturamento = sum(vendasano)\n",
    "\n",
    "print(f\"O faturamento total foi {faturamento}\")\n",
    "\n",
    "melMes = 1 * melhor / faturamento\n",
    "\n",
    "print(\"O melhor mês representou {:.2%} do faturamento.\".format(melMes))"
   ]
  },
  {
   "cell_type": "markdown",
   "metadata": {},
   "source": [
    "## 3. Crie uma lista com o top 3 valores de vendas do ano (sem fazer \"no olho\")\n",
    "\n",
    "Dica: o método remove retira um item da lista."
   ]
  },
  {
   "cell_type": "code",
   "execution_count": 17,
   "metadata": {},
   "outputs": [
    {
     "name": "stdout",
     "output_type": "stream",
     "text": [
      "[25000, 49051, 29000]\n"
     ]
    }
   ],
   "source": [
    "top3 = []\n",
    "\n",
    "top3.append(melhor)\n",
    "aux = vendasano.copy()\n",
    "\n",
    "aux.remove(melhor)\n",
    "melhor = max(aux)\n",
    "top3.append(melhor)\n",
    "\n",
    "aux.remove(melhor)\n",
    "melhor = max(aux)\n",
    "top3.append(melhor)\n",
    "\n",
    "print(top3)"
   ]
  }
 ],
 "metadata": {
  "kernelspec": {
   "display_name": "Python 3 (ipykernel)",
   "language": "python",
   "name": "python3"
  },
  "language_info": {
   "codemirror_mode": {
    "name": "ipython",
    "version": 3
   },
   "file_extension": ".py",
   "mimetype": "text/x-python",
   "name": "python",
   "nbconvert_exporter": "python",
   "pygments_lexer": "ipython3",
   "version": "3.10.9"
  }
 },
 "nbformat": 4,
 "nbformat_minor": 4
}
